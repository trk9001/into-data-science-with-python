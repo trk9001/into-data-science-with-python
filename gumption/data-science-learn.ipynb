{
 "cells": [
  {
   "cell_type": "markdown",
   "metadata": {},
   "source": [
    "# Learning Data Science w/ Python 3\n",
    "\n",
    "Reference material: [Python for Data Science](http://nbviewer.jupyter.org/github/gumption/Python_for_Data_Science/blob/master/Python_for_Data_Science_all.ipynb) by Joe McCarthy.\n",
    "\n",
    "I'm not a Python beginner, however for the sake of convenience, I shall follow Joe McCarthy's notebook closely as he teaches Data Science with a primer on Python. Note that I will be using Python 3, in contrast to McCarthy's Python 2 tutorial.\n",
    "\n",
    "Good luck, myself."
   ]
  },
  {
   "cell_type": "markdown",
   "metadata": {},
   "source": [
    "## Start"
   ]
  },
  {
   "cell_type": "code",
   "execution_count": 1,
   "metadata": {
    "scrolled": false
   },
   "outputs": [
    {
     "data": {
      "text/plain": [
       "'p,k,f,n,f,n,f,c,n,w,e,?,k,y,w,n,p,w,o,e,w,v,d'"
      ]
     },
     "execution_count": 1,
     "metadata": {},
     "output_type": "execute_result"
    }
   ],
   "source": [
    "single_instance_str = 'p,k,f,n,f,n,f,c,n,w,e,?,k,y,w,n,p,w,o,e,w,v,d'\n",
    "single_instance_str"
   ]
  },
  {
   "cell_type": "markdown",
   "metadata": {},
   "source": [
    "Okay, I don't have to write *all* the introductory Python code. I'll still be writing all definitions of any kind."
   ]
  },
  {
   "cell_type": "code",
   "execution_count": 2,
   "metadata": {
    "scrolled": false
   },
   "outputs": [
    {
     "name": "stdout",
     "output_type": "stream",
     "text": [
      "['p', 'k', 'f', 'n', 'f', 'n', 'f', 'c', 'n', 'w', 'e', '?', 'k', 'y', 'w', 'n', 'p', 'w', 'o', 'e', 'w', 'v', 'd']\n"
     ]
    }
   ],
   "source": [
    "single_instance_list = single_instance_str.split(',')\n",
    "print(single_instance_list)"
   ]
  },
  {
   "cell_type": "code",
   "execution_count": 3,
   "metadata": {
    "scrolled": false
   },
   "outputs": [
    {
     "name": "stdout",
     "output_type": "stream",
     "text": [
      "['class', 'cap-shape', 'cap-surface', 'cap-color', 'bruises?', 'odor', 'gill-attachment', 'gill-spacing', 'gill-size', 'gill-color', 'stalk-shape', 'stalk-root', 'stalk-surface-above-ring', 'stalk-surface-below-ring', 'stalk-color-above-ring', 'stalk-color-below-ring', 'veil-type', 'veil-color', 'ring-number', 'ring-type', 'spore-print-color', 'population', 'habitat']\n"
     ]
    }
   ],
   "source": [
    "attribute_names = [\n",
    "    'class', \n",
    "    'cap-shape', 'cap-surface', 'cap-color', \n",
    "    'bruises?', \n",
    "    'odor', \n",
    "    'gill-attachment', 'gill-spacing', 'gill-size', 'gill-color', \n",
    "    'stalk-shape', 'stalk-root', \n",
    "    'stalk-surface-above-ring', 'stalk-surface-below-ring', \n",
    "    'stalk-color-above-ring', 'stalk-color-below-ring',\n",
    "    'veil-type', 'veil-color', \n",
    "    'ring-number', 'ring-type', \n",
    "    'spore-print-color', \n",
    "    'population', \n",
    "    'habitat'\n",
    "]\n",
    "print(attribute_names)"
   ]
  },
  {
   "cell_type": "code",
   "execution_count": 4,
   "metadata": {
    "scrolled": false
   },
   "outputs": [],
   "source": [
    "def attribute_value(instance, attribute, attribute_names):\n",
    "    \"\"\"Returns the value of attribute in instance, based on its position in attribute_names.\"\"\"\n",
    "    if attribute not in attribute_names:\n",
    "        return None\n",
    "    else:\n",
    "        i = attribute_names.index(attribute)\n",
    "        return instance[i]"
   ]
  },
  {
   "cell_type": "markdown",
   "metadata": {},
   "source": [
    "Another way to do 66 from McCarthy's notebook:"
   ]
  },
  {
   "cell_type": "code",
   "execution_count": 6,
   "metadata": {
    "scrolled": false
   },
   "outputs": [
    {
     "name": "stdout",
     "output_type": "stream",
     "text": [
      "class = p\n",
      "cap-shape = k\n",
      "cap-surface = f\n",
      "cap-color = n\n",
      "bruises? = f\n",
      "odor = n\n",
      "gill-attachment = f\n",
      "gill-spacing = c\n",
      "gill-size = n\n",
      "gill-color = w\n",
      "stalk-shape = e\n",
      "stalk-root = ?\n",
      "stalk-surface-above-ring = k\n",
      "stalk-surface-below-ring = y\n",
      "stalk-color-above-ring = w\n",
      "stalk-color-below-ring = n\n",
      "veil-type = p\n",
      "veil-color = w\n",
      "ring-number = o\n",
      "ring-type = e\n",
      "spore-print-color = w\n",
      "population = v\n",
      "habitat = d\n"
     ]
    }
   ],
   "source": [
    "for attr_name, attr_val in zip(attribute_names, single_instance_list):\n",
    "    print(attr_name, '=', attr_val)"
   ]
  },
  {
   "cell_type": "markdown",
   "metadata": {},
   "source": [
    "### Solution to Exercise 1"
   ]
  },
  {
   "cell_type": "code",
   "execution_count": 8,
   "metadata": {
    "scrolled": false
   },
   "outputs": [
    {
     "name": "stdout",
     "output_type": "stream",
     "text": [
      "Values for the 23 attributes:\n",
      "\n",
      "class = p\n",
      "cap-shape = k\n",
      "cap-surface = f\n",
      "cap-color = n\n",
      "bruises? = f\n",
      "odor = n\n",
      "gill-attachment = f\n",
      "gill-spacing = c\n",
      "gill-size = n\n",
      "gill-color = w\n",
      "stalk-shape = e\n",
      "stalk-root = ?\n",
      "stalk-surface-above-ring = k\n",
      "stalk-surface-below-ring = y\n",
      "stalk-color-above-ring = w\n",
      "stalk-color-below-ring = n\n",
      "veil-type = p\n",
      "veil-color = w\n",
      "ring-number = o\n",
      "ring-type = e\n",
      "spore-print-color = w\n",
      "population = v\n",
      "habitat = d\n"
     ]
    }
   ],
   "source": [
    "def print_attribute_names_and_values(instance, attribute_names):\n",
    "    \"\"\"Prints the attribute names and values for an instance.\"\"\"\n",
    "    print('Values for the', len(attribute_names), 'attributes:\\n')\n",
    "    for attr_name, attr_val in zip(attribute_names, instance):\n",
    "        print(attr_name, '=', attr_val)\n",
    "\n",
    "print_attribute_names_and_values(single_instance_list, attribute_names)"
   ]
  },
  {
   "cell_type": "markdown",
   "metadata": {},
   "source": [
    "**End of solution.**"
   ]
  },
  {
   "cell_type": "markdown",
   "metadata": {},
   "source": [
    "### Solution to Exercise 2"
   ]
  },
  {
   "cell_type": "code",
   "execution_count": 10,
   "metadata": {
    "scrolled": false
   },
   "outputs": [
    {
     "name": "stdout",
     "output_type": "stream",
     "text": [
      "Read 8124 instances from agaricus-lepiota.data\n",
      "First instance: ['p', 'x', 's', 'n', 't', 'p', 'f', 'c', 'n', 'k', 'e', 'e', 's', 's', 'w', 'w', 'p', 'w', 'o', 'p', 'k', 's', 'u']\n"
     ]
    }
   ],
   "source": [
    "def load_instances(filename):\n",
    "    \"\"\"Returns a list of instances stored in a file.\n",
    "    \n",
    "    filename is expected to have a series of comma-separated attribute values per line, e.g.,\n",
    "        p,k,f,n,f,n,f,c,n,w,e,?,k,y,w,n,p,w,o,e,w,v,d\n",
    "    \"\"\"\n",
    "    instances = []\n",
    "    with open(filename, 'r', encoding='utf-8') as f:\n",
    "        for line in f:\n",
    "            instances.append(line.strip().split(','))\n",
    "\n",
    "    return instances\n",
    "\n",
    "data_file = 'agaricus-lepiota.data'\n",
    "all_instances = load_instances(data_file)\n",
    "print('Read', len(all_instances), 'instances from', data_file)\n",
    "print('First instance:', all_instances[0])"
   ]
  },
  {
   "cell_type": "markdown",
   "metadata": {},
   "source": [
    "*Note that I have the file `agaricus-lepiota.data` in the same directory as this notebook.*\n",
    "\n",
    "**End of solution.**"
   ]
  },
  {
   "cell_type": "code",
   "execution_count": 11,
   "metadata": {},
   "outputs": [
    {
     "name": "stdout",
     "output_type": "stream",
     "text": [
      "5644 clean instances\n"
     ]
    }
   ],
   "source": [
    "UNKNOWN_VALUE = '?'\n",
    "\n",
    "clean_instances = [inst for inst in all_instances\n",
    "                   if UNKNOWN_VALUE not in inst]\n",
    "\n",
    "print(len(clean_instances), 'clean instances')"
   ]
  },
  {
   "cell_type": "markdown",
   "metadata": {},
   "source": [
    "Just FYI, this is how you do shell stuff here:"
   ]
  },
  {
   "cell_type": "code",
   "execution_count": 12,
   "metadata": {},
   "outputs": [
    {
     "name": "stdout",
     "output_type": "stream",
     "text": [
      "/home/trk/learn/data-science-gumption\n",
      "\n",
      "class: edible=e, poisonous=p\n",
      "cap-shape: bell=b, conical=c, convex=x, flat=f, knobbed=k, sunken=s\n",
      "cap-surface: fibrous=f, grooves=g, scaly=y, smooth=s\n",
      "cap-color: brown=n ,buff=b, cinnamon=c, gray=g, green=r, pink=p, purple=u, red=e, white=w, yellow=y\n",
      "bruises?: bruises=t, no=f\n",
      "odor: almond=a, anise=l, creosote=c, fishy=y, foul=f, musty=m, none=n, pungent=p, spicy=s\n",
      "gill-attachment: attached=a, descending=d, free=f, notched=n\n",
      "gill-spacing: close=c, crowded=w, distant=d\n",
      "gill-size: broad=b, narrow=n\n",
      "gill-color: black=k, brown=n, buff=b, chocolate=h, gray=g, green=r, orange=o, pink=p, purple=u, red=e, white=w, yellow=y\n",
      "stalk-shape: enlarging=e, tapering=t\n",
      "stalk-root: bulbous=b, club=c, cup=u, equal=e, rhizomorphs=z, rooted=r, missing=?\n",
      "stalk-surface-above-ring: fibrous=f, scaly=y, silky=k, smooth=s\n",
      "stalk-surface-below-ring: fibrous=f, scaly=y, silky=k, smooth=s\n",
      "stalk-color-above-ring: brown=n, buff=b, cinnamon=c, gray=g, orange=o, pink=p, red=e, white=w, yellow=y\n",
      "stalk-color-below-ring: brown=n, buff=b, cinnamon=c, gray=g, orange=o, pink=p, red=e, white=w, yellow=y\n",
      "veil-type: partial=p, universal=u\n",
      "veil-color: brown=n, orange=o, white=w, yellow=y\n",
      "ring-number: none=n, one=o, two=t\n",
      "ring-type: cobwebby=c, evanescent=e, flaring=f, large=l, none=n, pendant=p, sheathing=s, zone=z\n",
      "spore-print-color: black=k, brown=n, buff=b, chocolate=h, green=r, orange=o, purple=u, white=w, yellow=y\n",
      "population: abundant=a, clustered=c, numerous=n, scattered=s, several=v, solitary=y\n",
      "habitat: grasses=g, leaves=l, meadows=m, paths=p, urban=u, waste=w, woods=d"
     ]
    }
   ],
   "source": [
    "! pwd\n",
    "! echo\n",
    "! cat agaricus-lepiota.attributes"
   ]
  },
  {
   "cell_type": "markdown",
   "metadata": {},
   "source": [
    "### Solution to Exercise 3"
   ]
  },
  {
   "cell_type": "code",
   "execution_count": 14,
   "metadata": {},
   "outputs": [
    {
     "name": "stdout",
     "output_type": "stream",
     "text": [
      "Read 23 attribute values from agaricus-lepiota.attributes\n",
      "First attribute name: class ; values: {'e': 'edible', 'p': 'poisonous'}\n"
     ]
    }
   ],
   "source": [
    "def load_attribute_names_and_values(filename):\n",
    "    \"\"\"Returns a list of attribute names and values in a file.\n",
    "    \n",
    "    This list contains dictionaries wherein the keys are names \n",
    "    and the values are value description dictionariess.\n",
    "    \n",
    "    Each value description sub-dictionary will use \n",
    "    the attribute value abbreviations as its keys \n",
    "    and the attribute descriptions as the values.\n",
    "    \n",
    "    filename is expected to have one attribute name and set of values per line, \n",
    "    with the following format:\n",
    "        name: value_description=value_abbreviation[,value_description=value_abbreviation]*\n",
    "    for example\n",
    "        cap-shape: bell=b, conical=c, convex=x, flat=f, knobbed=k, sunken=s\n",
    "    The attribute name and values dictionary created from this line would be the following:\n",
    "        {'name': 'cap-shape', \n",
    "         'values': {'c': 'conical', \n",
    "                    'b': 'bell', \n",
    "                    'f': 'flat', \n",
    "                    'k': 'knobbed', \n",
    "                    's': 'sunken', \n",
    "                    'x': 'convex'}}\n",
    "    \"\"\"\n",
    "    attribute_names_and_values = list()\n",
    "    with open(filename, 'r', encoding='utf-8') as f:\n",
    "        for line in f:\n",
    "            attribute_dict = dict()\n",
    "            attr_name = line.split(':')[0]\n",
    "            attribute_dict['name'] = attr_name\n",
    "\n",
    "            val_dict = dict()\n",
    "            val_string = line.split(':')[1].strip()\n",
    "            val_list = [s.strip() for s in val_string.split(',')]\n",
    "            val_list = [s.split('=') for s in val_list]\n",
    "            for l in val_list:\n",
    "                val_dict[l[1]] = l[0]\n",
    "\n",
    "            attribute_dict['values'] = val_dict\n",
    "            attribute_names_and_values.append(attribute_dict)\n",
    "\n",
    "    return attribute_names_and_values\n",
    "\n",
    "attribute_file = 'agaricus-lepiota.attributes'\n",
    "attribute_names_and_values = load_attribute_names_and_values(attribute_file)\n",
    "print('Read', len(attribute_names_and_values), 'attribute values from', attribute_file)\n",
    "print('First attribute name:', attribute_names_and_values[0]['name'], \n",
    "      '; values:', attribute_names_and_values[0]['values'])"
   ]
  },
  {
   "cell_type": "markdown",
   "metadata": {},
   "source": [
    "**End of solution.**"
   ]
  },
  {
   "cell_type": "code",
   "execution_count": null,
   "metadata": {},
   "outputs": [],
   "source": []
  }
 ],
 "metadata": {
  "kernelspec": {
   "display_name": "Python 3",
   "language": "python",
   "name": "python3"
  },
  "language_info": {
   "codemirror_mode": {
    "name": "ipython",
    "version": 3
   },
   "file_extension": ".py",
   "mimetype": "text/x-python",
   "name": "python",
   "nbconvert_exporter": "python",
   "pygments_lexer": "ipython3",
   "version": "3.6.4"
  }
 },
 "nbformat": 4,
 "nbformat_minor": 2
}
