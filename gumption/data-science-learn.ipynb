{
 "cells": [
  {
   "cell_type": "markdown",
   "metadata": {},
   "source": [
    "# Learning Data Science w/ Python 3\n",
    "\n",
    "Reference material: [Python for Data Science](http://nbviewer.jupyter.org/github/gumption/Python_for_Data_Science/blob/master/Python_for_Data_Science_all.ipynb) by Joe McCarthy.\n",
    "\n",
    "I'm not a Python beginner, however for the sake of convenience, I shall follow Joe McCarthy's notebook closely as he teaches Data Science with a primer on Python. Note that I will be using Python 3, in contrast to McCarthy's Python 2 tutorial.\n",
    "\n",
    "Good luck, myself."
   ]
  },
  {
   "cell_type": "markdown",
   "metadata": {},
   "source": [
    "## Start"
   ]
  },
  {
   "cell_type": "code",
   "execution_count": 1,
   "metadata": {
    "scrolled": false
   },
   "outputs": [
    {
     "data": {
      "text/plain": [
       "'p,k,f,n,f,n,f,c,n,w,e,?,k,y,w,n,p,w,o,e,w,v,d'"
      ]
     },
     "execution_count": 1,
     "metadata": {},
     "output_type": "execute_result"
    }
   ],
   "source": [
    "single_instance_str = 'p,k,f,n,f,n,f,c,n,w,e,?,k,y,w,n,p,w,o,e,w,v,d'\n",
    "single_instance_str"
   ]
  },
  {
   "cell_type": "markdown",
   "metadata": {},
   "source": [
    "Okay, I don't have to write *all* the introductory Python code. I'll still be writing all definitions of any kind."
   ]
  },
  {
   "cell_type": "code",
   "execution_count": 2,
   "metadata": {
    "scrolled": false
   },
   "outputs": [
    {
     "name": "stdout",
     "output_type": "stream",
     "text": [
      "['p', 'k', 'f', 'n', 'f', 'n', 'f', 'c', 'n', 'w', 'e', '?', 'k', 'y', 'w', 'n', 'p', 'w', 'o', 'e', 'w', 'v', 'd']\n"
     ]
    }
   ],
   "source": [
    "single_instance_list = single_instance_str.split(',')\n",
    "print(single_instance_list)"
   ]
  },
  {
   "cell_type": "code",
   "execution_count": 3,
   "metadata": {
    "scrolled": false
   },
   "outputs": [
    {
     "name": "stdout",
     "output_type": "stream",
     "text": [
      "['class', 'cap-shape', 'cap-surface', 'cap-color', 'bruises?', 'odor', 'gill-attachment', 'gill-spacing', 'gill-size', 'gill-color', 'stalk-shape', 'stalk-root', 'stalk-surface-above-ring', 'stalk-surface-below-ring', 'stalk-color-above-ring', 'stalk-color-below-ring', 'veil-type', 'veil-color', 'ring-number', 'ring-type', 'spore-print-color', 'population', 'habitat']\n"
     ]
    }
   ],
   "source": [
    "attribute_names = [\n",
    "    'class', \n",
    "    'cap-shape', 'cap-surface', 'cap-color', \n",
    "    'bruises?', \n",
    "    'odor', \n",
    "    'gill-attachment', 'gill-spacing', 'gill-size', 'gill-color', \n",
    "    'stalk-shape', 'stalk-root', \n",
    "    'stalk-surface-above-ring', 'stalk-surface-below-ring', \n",
    "    'stalk-color-above-ring', 'stalk-color-below-ring',\n",
    "    'veil-type', 'veil-color', \n",
    "    'ring-number', 'ring-type', \n",
    "    'spore-print-color', \n",
    "    'population', \n",
    "    'habitat'\n",
    "]\n",
    "print(attribute_names)"
   ]
  },
  {
   "cell_type": "code",
   "execution_count": 4,
   "metadata": {
    "scrolled": false
   },
   "outputs": [],
   "source": [
    "def attribute_value(instance, attribute, attribute_names):\n",
    "    \"\"\"Returns the value of attribute in instance, based on its position in attribute_names.\"\"\"\n",
    "    if attribute not in attribute_names:\n",
    "        return None\n",
    "    else:\n",
    "        i = attribute_names.index(attribute)\n",
    "        return instance[i]"
   ]
  },
  {
   "cell_type": "markdown",
   "metadata": {},
   "source": [
    "Another way to do 66 from McCarthy's notebook:"
   ]
  },
  {
   "cell_type": "code",
   "execution_count": 5,
   "metadata": {
    "scrolled": false
   },
   "outputs": [
    {
     "name": "stdout",
     "output_type": "stream",
     "text": [
      "class = p\n",
      "cap-shape = k\n",
      "cap-surface = f\n",
      "cap-color = n\n",
      "bruises? = f\n",
      "odor = n\n",
      "gill-attachment = f\n",
      "gill-spacing = c\n",
      "gill-size = n\n",
      "gill-color = w\n",
      "stalk-shape = e\n",
      "stalk-root = ?\n",
      "stalk-surface-above-ring = k\n",
      "stalk-surface-below-ring = y\n",
      "stalk-color-above-ring = w\n",
      "stalk-color-below-ring = n\n",
      "veil-type = p\n",
      "veil-color = w\n",
      "ring-number = o\n",
      "ring-type = e\n",
      "spore-print-color = w\n",
      "population = v\n",
      "habitat = d\n"
     ]
    }
   ],
   "source": [
    "for attr_name, attr_val in zip(attribute_names, single_instance_list):\n",
    "    print(attr_name, '=', attr_val)"
   ]
  },
  {
   "cell_type": "markdown",
   "metadata": {},
   "source": [
    "### Solution to Exercise 1"
   ]
  },
  {
   "cell_type": "code",
   "execution_count": 6,
   "metadata": {
    "scrolled": false
   },
   "outputs": [
    {
     "name": "stdout",
     "output_type": "stream",
     "text": [
      "Values for the 23 attributes:\n",
      "\n",
      "class = p\n",
      "cap-shape = k\n",
      "cap-surface = f\n",
      "cap-color = n\n",
      "bruises? = f\n",
      "odor = n\n",
      "gill-attachment = f\n",
      "gill-spacing = c\n",
      "gill-size = n\n",
      "gill-color = w\n",
      "stalk-shape = e\n",
      "stalk-root = ?\n",
      "stalk-surface-above-ring = k\n",
      "stalk-surface-below-ring = y\n",
      "stalk-color-above-ring = w\n",
      "stalk-color-below-ring = n\n",
      "veil-type = p\n",
      "veil-color = w\n",
      "ring-number = o\n",
      "ring-type = e\n",
      "spore-print-color = w\n",
      "population = v\n",
      "habitat = d\n"
     ]
    }
   ],
   "source": [
    "def print_attribute_names_and_values(instance, attribute_names):\n",
    "    \"\"\"Prints the attribute names and values for an instance.\"\"\"\n",
    "    print('Values for the', len(attribute_names), 'attributes:\\n')\n",
    "    for attr_name, attr_val in zip(attribute_names, instance):\n",
    "        print(attr_name, '=', attr_val)\n",
    "\n",
    "print_attribute_names_and_values(single_instance_list, attribute_names)"
   ]
  },
  {
   "cell_type": "markdown",
   "metadata": {},
   "source": [
    "**End of solution.**"
   ]
  },
  {
   "cell_type": "markdown",
   "metadata": {},
   "source": [
    "### Solution to Exercise 2"
   ]
  },
  {
   "cell_type": "code",
   "execution_count": 7,
   "metadata": {
    "scrolled": false
   },
   "outputs": [
    {
     "name": "stdout",
     "output_type": "stream",
     "text": [
      "Read 8124 instances from agaricus-lepiota.data\n",
      "First instance: ['p', 'x', 's', 'n', 't', 'p', 'f', 'c', 'n', 'k', 'e', 'e', 's', 's', 'w', 'w', 'p', 'w', 'o', 'p', 'k', 's', 'u']\n"
     ]
    }
   ],
   "source": [
    "def load_instances(filename):\n",
    "    \"\"\"Returns a list of instances stored in a file.\n",
    "    \n",
    "    filename is expected to have a series of comma-separated attribute values per line, e.g.,\n",
    "        p,k,f,n,f,n,f,c,n,w,e,?,k,y,w,n,p,w,o,e,w,v,d\n",
    "    \"\"\"\n",
    "    instances = []\n",
    "    with open(filename, 'r', encoding='utf-8') as f:\n",
    "        for line in f:\n",
    "            instances.append(line.strip().split(','))\n",
    "\n",
    "    return instances\n",
    "\n",
    "data_file = 'agaricus-lepiota.data'\n",
    "all_instances = load_instances(data_file)\n",
    "print('Read', len(all_instances), 'instances from', data_file)\n",
    "print('First instance:', all_instances[0])"
   ]
  },
  {
   "cell_type": "markdown",
   "metadata": {},
   "source": [
    "*Note that I have the file `agaricus-lepiota.data` in the same directory as this notebook.*\n",
    "\n",
    "**End of solution.**"
   ]
  },
  {
   "cell_type": "code",
   "execution_count": 8,
   "metadata": {},
   "outputs": [
    {
     "name": "stdout",
     "output_type": "stream",
     "text": [
      "5644 clean instances\n"
     ]
    }
   ],
   "source": [
    "UNKNOWN_VALUE = '?'\n",
    "\n",
    "clean_instances = [inst for inst in all_instances\n",
    "                   if UNKNOWN_VALUE not in inst]\n",
    "\n",
    "print(len(clean_instances), 'clean instances')"
   ]
  },
  {
   "cell_type": "markdown",
   "metadata": {},
   "source": [
    "Just FYI, this is how you do shell stuff here:"
   ]
  },
  {
   "cell_type": "code",
   "execution_count": 9,
   "metadata": {},
   "outputs": [
    {
     "name": "stdout",
     "output_type": "stream",
     "text": [
      "/home/trk/learn/data-science-gumption-python\n",
      "\n",
      "class: edible=e, poisonous=p\n",
      "cap-shape: bell=b, conical=c, convex=x, flat=f, knobbed=k, sunken=s\n",
      "cap-surface: fibrous=f, grooves=g, scaly=y, smooth=s\n",
      "cap-color: brown=n ,buff=b, cinnamon=c, gray=g, green=r, pink=p, purple=u, red=e, white=w, yellow=y\n",
      "bruises?: bruises=t, no=f\n",
      "odor: almond=a, anise=l, creosote=c, fishy=y, foul=f, musty=m, none=n, pungent=p, spicy=s\n",
      "gill-attachment: attached=a, descending=d, free=f, notched=n\n",
      "gill-spacing: close=c, crowded=w, distant=d\n",
      "gill-size: broad=b, narrow=n\n",
      "gill-color: black=k, brown=n, buff=b, chocolate=h, gray=g, green=r, orange=o, pink=p, purple=u, red=e, white=w, yellow=y\n",
      "stalk-shape: enlarging=e, tapering=t\n",
      "stalk-root: bulbous=b, club=c, cup=u, equal=e, rhizomorphs=z, rooted=r, missing=?\n",
      "stalk-surface-above-ring: fibrous=f, scaly=y, silky=k, smooth=s\n",
      "stalk-surface-below-ring: fibrous=f, scaly=y, silky=k, smooth=s\n",
      "stalk-color-above-ring: brown=n, buff=b, cinnamon=c, gray=g, orange=o, pink=p, red=e, white=w, yellow=y\n",
      "stalk-color-below-ring: brown=n, buff=b, cinnamon=c, gray=g, orange=o, pink=p, red=e, white=w, yellow=y\n",
      "veil-type: partial=p, universal=u\n",
      "veil-color: brown=n, orange=o, white=w, yellow=y\n",
      "ring-number: none=n, one=o, two=t\n",
      "ring-type: cobwebby=c, evanescent=e, flaring=f, large=l, none=n, pendant=p, sheathing=s, zone=z\n",
      "spore-print-color: black=k, brown=n, buff=b, chocolate=h, green=r, orange=o, purple=u, white=w, yellow=y\n",
      "population: abundant=a, clustered=c, numerous=n, scattered=s, several=v, solitary=y\n",
      "habitat: grasses=g, leaves=l, meadows=m, paths=p, urban=u, waste=w, woods=d"
     ]
    }
   ],
   "source": [
    "! pwd\n",
    "! echo\n",
    "! cat agaricus-lepiota.attributes"
   ]
  },
  {
   "cell_type": "markdown",
   "metadata": {},
   "source": [
    "### Solution to Exercise 3"
   ]
  },
  {
   "cell_type": "code",
   "execution_count": 10,
   "metadata": {},
   "outputs": [
    {
     "name": "stdout",
     "output_type": "stream",
     "text": [
      "Read 23 attribute values from agaricus-lepiota.attributes\n",
      "First attribute name: class ; values: {'e': 'edible', 'p': 'poisonous'}\n"
     ]
    }
   ],
   "source": [
    "def load_attribute_names_and_values(filename):\n",
    "    \"\"\"Returns a list of attribute names and values in a file.\n",
    "    \n",
    "    This list contains dictionaries wherein the keys are names \n",
    "    and the values are value description dictionariess.\n",
    "    \n",
    "    Each value description sub-dictionary will use \n",
    "    the attribute value abbreviations as its keys \n",
    "    and the attribute descriptions as the values.\n",
    "    \n",
    "    filename is expected to have one attribute name and set of values per line, \n",
    "    with the following format:\n",
    "        name: value_description=value_abbreviation[,value_description=value_abbreviation]*\n",
    "    for example\n",
    "        cap-shape: bell=b, conical=c, convex=x, flat=f, knobbed=k, sunken=s\n",
    "    The attribute name and values dictionary created from this line would be the following:\n",
    "        {'name': 'cap-shape', \n",
    "         'values': {'c': 'conical', \n",
    "                    'b': 'bell', \n",
    "                    'f': 'flat', \n",
    "                    'k': 'knobbed', \n",
    "                    's': 'sunken', \n",
    "                    'x': 'convex'}}\n",
    "    \"\"\"\n",
    "    attribute_names_and_values = list()\n",
    "    with open(filename, 'r', encoding='utf-8') as f:\n",
    "        for line in f:\n",
    "            attribute_dict = dict()\n",
    "            attr_name = line.split(':')[0]\n",
    "            attribute_dict['name'] = attr_name\n",
    "\n",
    "            val_dict = dict()\n",
    "            val_string = line.split(':')[1].strip()\n",
    "            val_list = [s.strip() for s in val_string.split(',')]\n",
    "            val_list = [s.split('=') for s in val_list]\n",
    "            for l in val_list:\n",
    "                val_dict[l[1]] = l[0]\n",
    "\n",
    "            attribute_dict['values'] = val_dict\n",
    "            attribute_names_and_values.append(attribute_dict)\n",
    "\n",
    "    return attribute_names_and_values\n",
    "\n",
    "attribute_file = 'agaricus-lepiota.attributes'\n",
    "attribute_names_and_values = load_attribute_names_and_values(attribute_file)\n",
    "print('Read', len(attribute_names_and_values), 'attribute values from', attribute_file)\n",
    "print('First attribute name:', attribute_names_and_values[0]['name'], \n",
    "      '; values:', attribute_names_and_values[0]['values'])"
   ]
  },
  {
   "cell_type": "markdown",
   "metadata": {},
   "source": [
    "**End of solution.**"
   ]
  },
  {
   "cell_type": "markdown",
   "metadata": {},
   "source": [
    "### Solution to Exercise 4"
   ]
  },
  {
   "cell_type": "code",
   "execution_count": 11,
   "metadata": {},
   "outputs": [
    {
     "name": "stdout",
     "output_type": "stream",
     "text": [
      "Counts for each value of cap-shape :\n",
      "x : 2840\n",
      "b : 300\n",
      "s : 32\n",
      "f : 2432\n",
      "k : 36\n",
      "c : 4\n"
     ]
    }
   ],
   "source": [
    "from collections import Counter\n",
    "\n",
    "def attribute_value_counts(instances, attribute, attribute_names):\n",
    "    \"\"\"Returns a Counter for each value of attribute in instances.\"\"\"\n",
    "    if attribute in attribute_names:\n",
    "        return Counter([\n",
    "            attribute_value(instance, attribute, attribute_names)\n",
    "            for instance in instances\n",
    "        ])\n",
    "\n",
    "    return None\n",
    "\n",
    "attribute = 'cap-shape'\n",
    "attribute_value_counts = attribute_value_counts(\n",
    "    clean_instances, \n",
    "    attribute, \n",
    "    attribute_names\n",
    ")\n",
    "\n",
    "print('Counts for each value of', attribute, ':')\n",
    "for value in attribute_value_counts:\n",
    "    print(value, ':', attribute_value_counts[value])"
   ]
  },
  {
   "cell_type": "markdown",
   "metadata": {},
   "source": [
    "**End of solution.**"
   ]
  },
  {
   "cell_type": "markdown",
   "metadata": {},
   "source": [
    "`sorted(dict)` returns a sorted list of the dict's keys."
   ]
  },
  {
   "cell_type": "code",
   "execution_count": 12,
   "metadata": {},
   "outputs": [
    {
     "name": "stdout",
     "output_type": "stream",
     "text": [
      "Counts for each value of cap-shape :\n",
      "b : 300\n",
      "c : 4\n",
      "f : 2432\n",
      "k : 36\n",
      "s : 32\n",
      "x : 2840\n"
     ]
    }
   ],
   "source": [
    "# Redefining the above function again because of a variable of the same name\n",
    "def attribute_value_counts(instances, attribute, attribute_names):\n",
    "    \"\"\"Returns a Counter for each value of attribute in instances.\"\"\"\n",
    "    if attribute in attribute_names:\n",
    "        return Counter([\n",
    "            attribute_value(instance, attribute, attribute_names)\n",
    "            for instance in instances\n",
    "        ])\n",
    "\n",
    "    return None\n",
    "\n",
    "attribute = 'cap-shape'\n",
    "attribute_value_counts_ = attribute_value_counts(\n",
    "    clean_instances, \n",
    "    attribute, \n",
    "    attribute_names\n",
    ")\n",
    "\n",
    "print('Counts for each value of', attribute, ':')\n",
    "for value in sorted(attribute_value_counts_):\n",
    "    print(value, ':', attribute_value_counts_[value])"
   ]
  },
  {
   "cell_type": "markdown",
   "metadata": {},
   "source": [
    "I did not realize before that sorting a `dict` by its values is not a straightforward task. To do it, we could use the `itemgetter(i)` function from the **`operator`** module. This is how the sorting is done in McCarthy's notebook (96).\n",
    "\n",
    "However in Python 3, we can use a `lambda` function to specify as a key. Functional programming FTW! For more info on this, see [this answer](https://stackoverflow.com/questions/613183/how-do-i-sort-a-dictionary-by-value#613218 \"How do I sort a dictionary by value?\") on Stack Overflow."
   ]
  },
  {
   "cell_type": "code",
   "execution_count": 13,
   "metadata": {},
   "outputs": [
    {
     "name": "stdout",
     "output_type": "stream",
     "text": [
      "Counts for each value of cap-shape (sorted by count):\n",
      "x : 2840\n",
      "f : 2432\n",
      "b : 300\n",
      "k : 36\n",
      "s : 32\n",
      "c : 4\n"
     ]
    }
   ],
   "source": [
    "attribute = 'cap-shape'\n",
    "value_counts = attribute_value_counts(\n",
    "    clean_instances, \n",
    "    attribute, \n",
    "    attribute_names\n",
    ")\n",
    "\n",
    "print('Counts for each value of', attribute, '(sorted by count):')\n",
    "for value, count in sorted(value_counts.items(), \n",
    "                           key=lambda dikt: dikt[1], \n",
    "                           reverse=True):\n",
    "    print(value, ':', count)"
   ]
  },
  {
   "cell_type": "markdown",
   "metadata": {},
   "source": [
    "### Solution to Exercise 5"
   ]
  },
  {
   "cell_type": "code",
   "execution_count": 14,
   "metadata": {},
   "outputs": [
    {
     "name": "stdout",
     "output_type": "stream",
     "text": [
      "\n",
      "Counts for all attributes and values:\n",
      "\n",
      "class: e = 3488 (0.618), p = 2156 (0.382), \n",
      "cap-shape: x = 2840 (0.503), f = 2432 (0.431), b = 300 (0.053), k = 36 (0.006), s = 32 (0.006), c = 4 (0.001), \n",
      "cap-surface: y = 2220 (0.393), f = 2160 (0.383), s = 1260 (0.223), g = 4 (0.001), \n",
      "cap-color: g = 1696 (0.300), n = 1164 (0.206), y = 1056 (0.187), w = 880 (0.156), e = 588 (0.104), b = 120 (0.021), p = 96 (0.017), c = 44 (0.008), \n",
      "bruises?: t = 3184 (0.564), f = 2460 (0.436), \n",
      "odor: n = 2776 (0.492), f = 1584 (0.281), a = 400 (0.071), l = 400 (0.071), p = 256 (0.045), c = 192 (0.034), m = 36 (0.006), \n",
      "gill-attachment: f = 5626 (0.997), a = 18 (0.003), \n",
      "gill-spacing: c = 4620 (0.819), w = 1024 (0.181), \n",
      "gill-size: b = 4940 (0.875), n = 704 (0.125), \n",
      "gill-color: p = 1384 (0.245), n = 984 (0.174), w = 966 (0.171), h = 720 (0.128), g = 656 (0.116), u = 480 (0.085), k = 408 (0.072), r = 24 (0.004), y = 22 (0.004), \n",
      "stalk-shape: t = 2880 (0.510), e = 2764 (0.490), \n",
      "stalk-root: b = 3776 (0.669), e = 1120 (0.198), c = 556 (0.099), r = 192 (0.034), \n",
      "stalk-surface-above-ring: s = 3736 (0.662), k = 1332 (0.236), f = 552 (0.098), y = 24 (0.004), \n",
      "stalk-surface-below-ring: s = 3544 (0.628), k = 1296 (0.230), f = 552 (0.098), y = 252 (0.045), \n",
      "stalk-color-above-ring: w = 3136 (0.556), p = 1008 (0.179), g = 576 (0.102), n = 448 (0.079), b = 432 (0.077), c = 36 (0.006), y = 8 (0.001), \n",
      "stalk-color-below-ring: w = 3088 (0.547), p = 1008 (0.179), g = 576 (0.102), n = 496 (0.088), b = 432 (0.077), c = 36 (0.006), y = 8 (0.001), \n",
      "veil-type: p = 5644 (1.000), \n",
      "veil-color: w = 5636 (0.999), y = 8 (0.001), \n",
      "ring-number: o = 5488 (0.972), t = 120 (0.021), n = 36 (0.006), \n",
      "ring-type: p = 3488 (0.618), l = 1296 (0.230), e = 824 (0.146), n = 36 (0.006), \n",
      "spore-print-color: n = 1920 (0.340), k = 1872 (0.332), h = 1584 (0.281), w = 148 (0.026), r = 72 (0.013), u = 48 (0.009), \n",
      "population: v = 2160 (0.383), y = 1688 (0.299), s = 1104 (0.196), a = 384 (0.068), n = 256 (0.045), c = 52 (0.009), \n",
      "habitat: d = 2492 (0.442), g = 1860 (0.330), p = 568 (0.101), u = 368 (0.065), m = 292 (0.052), l = 64 (0.011), \n"
     ]
    }
   ],
   "source": [
    "def print_all_attribute_value_counts(instances, attribute_names):\n",
    "    \"\"\"Prints statistics of attribute values.\"\"\"\n",
    "    for attr in attribute_names:\n",
    "        print(attr, end=': ')\n",
    "        \n",
    "        attr_value_counts = attribute_value_counts(\n",
    "            instances, attr, attribute_names\n",
    "        )\n",
    "        attr_value_total = sum(attr_value_counts.values())\n",
    "        attr_value_counts = sorted(\n",
    "            attr_value_counts.items(),\n",
    "            key=lambda x: x[1],\n",
    "            reverse=True\n",
    "        )\n",
    "        for value, count in attr_value_counts:\n",
    "            print('{} = {} ({:.3f})'.format(value,\n",
    "                                       count,\n",
    "                                       count / attr_value_total),\n",
    "                 end=', ')\n",
    "        \n",
    "        print()\n",
    "\n",
    "print('\\nCounts for all attributes and values:\\n')\n",
    "print_all_attribute_value_counts(clean_instances, attribute_names)"
   ]
  },
  {
   "cell_type": "markdown",
   "metadata": {},
   "source": [
    "**End of solution.**"
   ]
  },
  {
   "cell_type": "markdown",
   "metadata": {},
   "source": [
    "Okay, now we're about to get into the good stuff: **building and using a simple decision tree classifier**."
   ]
  },
  {
   "cell_type": "markdown",
   "metadata": {},
   "source": [
    "### Solution to Exercise 6"
   ]
  },
  {
   "cell_type": "code",
   "execution_count": 16,
   "metadata": {},
   "outputs": [
    {
     "name": "stdout",
     "output_type": "stream",
     "text": [
      "0.9594413373534085\n"
     ]
    }
   ],
   "source": [
    "import math\n",
    "\n",
    "def entropy(instances):\n",
    "    \"\"\"Returns the entropy of instances.\"\"\"\n",
    "    attr = 'class'\n",
    "    avc = Counter([  # avc: attribute value counts\n",
    "        attribute_value(instance, attr, attribute_names)\n",
    "        for instance in instances\n",
    "    ])\n",
    "    \n",
    "    ent = 0\n",
    "    sum_avc = sum(avc.values())\n",
    "    for a in avc:\n",
    "        ent -= (avc[a] / sum_avc) * math.log2(avc[a] / sum_avc)\n",
    "    \n",
    "    return ent\n",
    "\n",
    "print(entropy(clean_instances))"
   ]
  },
  {
   "cell_type": "markdown",
   "metadata": {},
   "source": [
    "**End of solution.**"
   ]
  },
  {
   "cell_type": "code",
   "execution_count": null,
   "metadata": {},
   "outputs": [],
   "source": []
  }
 ],
 "metadata": {
  "kernelspec": {
   "display_name": "Python 3",
   "language": "python",
   "name": "python3"
  },
  "language_info": {
   "codemirror_mode": {
    "name": "ipython",
    "version": 3
   },
   "file_extension": ".py",
   "mimetype": "text/x-python",
   "name": "python",
   "nbconvert_exporter": "python",
   "pygments_lexer": "ipython3",
   "version": "3.6.4"
  }
 },
 "nbformat": 4,
 "nbformat_minor": 2
}
